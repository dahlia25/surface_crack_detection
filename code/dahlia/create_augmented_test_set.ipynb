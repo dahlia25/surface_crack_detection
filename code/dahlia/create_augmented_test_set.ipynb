{
 "cells": [
  {
   "cell_type": "markdown",
   "metadata": {},
   "source": [
    "# Generate 1000 Augmented Test Images\n",
    "Select and save 1000 augmented images into a Torch tensor object as test set for further test accuracy evaluation."
   ]
  },
  {
   "cell_type": "markdown",
   "metadata": {},
   "source": [
    "**Load packages/modules**"
   ]
  },
  {
   "cell_type": "code",
   "execution_count": 13,
   "metadata": {},
   "outputs": [
    {
     "name": "stdout",
     "output_type": "stream",
     "text": [
      "Torch version: 1.9.1\n"
     ]
    }
   ],
   "source": [
    "import os\n",
    "import time\n",
    "import torch\n",
    "import torchvision\n",
    "\n",
    "from torchvision import datasets, transforms\n",
    "\n",
    "print(f'Torch version: {torch .__version__}')"
   ]
  },
  {
   "cell_type": "code",
   "execution_count": 14,
   "metadata": {},
   "outputs": [
    {
     "name": "stdout",
     "output_type": "stream",
     "text": [
      "Requirement already satisfied: torchsummary in /Users/dahliama/anaconda3/lib/python3.6/site-packages (1.5.1)\n",
      "Note: you may need to restart the kernel to use updated packages.\n"
     ]
    }
   ],
   "source": [
    "import numpy as np\n",
    "import pandas as pd\n",
    "import matplotlib.pyplot as plt\n",
    "import torch.nn as nn\n",
    "import torch.nn.functional as F\n",
    "from torchvision.utils import make_grid\n",
    "\n",
    "%pip install torchsummary\n",
    "\n",
    "from torchvision import models\n",
    "from torchsummary import summary"
   ]
  },
  {
   "cell_type": "markdown",
   "metadata": {},
   "source": [
    "**Load data**"
   ]
  },
  {
   "cell_type": "code",
   "execution_count": 8,
   "metadata": {},
   "outputs": [
    {
     "name": "stdout",
     "output_type": "stream",
     "text": [
      "Total negative original images: 40000\n",
      "Total negative augmented images: 180000\n",
      "Total positive original images: 40000\n",
      "Total positive augmented images: 180002\n"
     ]
    }
   ],
   "source": [
    "# check the total images we have\n",
    "neg_data_dir = 'data/archive/original/0'  # negative = no surface crack\n",
    "pos_data_dir = 'data/archive/original/1'  # positive = has surface crack\n",
    "\n",
    "neg_aug_data_dir = 'data/archive/augmented/0'\n",
    "pos_aug_data_dir = 'data/archive/augmented/1'\n",
    "\n",
    "print(f'Total negative original images: {len(os.listdir(neg_data_dir))}')\n",
    "print(f'Total negative augmented images: {len(os.listdir(neg_aug_data_dir))}')\n",
    "print(f'Total positive original images: {len(os.listdir(pos_data_dir))}')\n",
    "print(f'Total positive augmented images: {len(os.listdir(pos_aug_data_dir))}')"
   ]
  },
  {
   "cell_type": "code",
   "execution_count": 15,
   "metadata": {},
   "outputs": [],
   "source": [
    "# load data\n",
    "batch_size = 100\n",
    "\n",
    "data_dir = 'data/archive/original'\n",
    "aug_data_dir = 'data/archive/augmented'\n",
    "\n",
    "transform = transforms.Compose([transforms.ToTensor()])\n",
    "\n",
    "# data = datasets.ImageFolder(data_dir, transform=transform)\n",
    "aug_data = datasets.ImageFolder(aug_data_dir, transform=transform)\n",
    "\n",
    "# dataloader = torch.utils.data.DataLoader(data, \n",
    "#                                          batch_size=batch_size, \n",
    "#                                          shuffle=True, \n",
    "#                                          pin_memory=True)\n",
    "\n",
    "aug_dataloader = torch.utils.data.DataLoader(aug_data,\n",
    "                                             batch_size=batch_size, \n",
    "                                             shuffle=True, \n",
    "                                             pin_memory=True)"
   ]
  },
  {
   "cell_type": "code",
   "execution_count": 17,
   "metadata": {},
   "outputs": [
    {
     "name": "stdout",
     "output_type": "stream",
     "text": [
      "Batch 1 added.\n",
      "Batch 2 added.\n",
      "Batch 3 added.\n",
      "Batch 4 added.\n",
      "Batch 5 added.\n",
      "Batch 6 added.\n",
      "Batch 7 added.\n",
      "Batch 8 added.\n",
      "Batch 9 added.\n",
      "Batch 10 added.\n",
      "Saving inputs torch.Size([1000, 3, 227, 227]), labels torch.Size([1000])\n"
     ]
    }
   ],
   "source": [
    "# create a small test set from augmented data -- want 1,000 images to test so retrieve 10 batches of 100\n",
    "\n",
    "counter = 1\n",
    "\n",
    "for i, data in enumerate(aug_dataloader, 0):\n",
    "    \n",
    "    if i+1 == 11:\n",
    "        break\n",
    "        \n",
    "    else:\n",
    "        \n",
    "        if counter == 1:\n",
    "            inputs, labels = data\n",
    "            counter += 1\n",
    "            \n",
    "        else:\n",
    "            new_inputs, new_labels = data\n",
    "            inputs = torch.cat((inputs, new_inputs), 0)\n",
    "            labels = torch.cat((labels, new_labels), 0)\n",
    "            counter += 1\n",
    "        \n",
    "        print(f'Batch {i+1} added.')\n",
    "        \n",
    "print(f'Saving inputs {inputs.shape}, labels {labels.shape}')\n",
    "        \n",
    "# save test set\n",
    "testset = [inputs, labels]\n",
    "\n",
    "path = f\"data/test_sets/small_1000_set.pth\"\n",
    "torch.save(testset, path)"
   ]
  }
 ],
 "metadata": {
  "kernelspec": {
   "display_name": "Python 3",
   "language": "python",
   "name": "python3"
  },
  "language_info": {
   "codemirror_mode": {
    "name": "ipython",
    "version": 3
   },
   "file_extension": ".py",
   "mimetype": "text/x-python",
   "name": "python",
   "nbconvert_exporter": "python",
   "pygments_lexer": "ipython3",
   "version": "3.6.5"
  }
 },
 "nbformat": 4,
 "nbformat_minor": 4
}
