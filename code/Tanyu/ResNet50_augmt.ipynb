{
 "cells": [
  {
   "cell_type": "code",
   "execution_count": 1,
   "metadata": {
    "id": "Kbp8OfCZf7_I"
   },
   "outputs": [],
   "source": [
    "import os\n",
    "import glob\n",
    "import numpy as np\n",
    "import pandas as pd\n",
    "import seaborn as sns\n",
    "import matplotlib.pyplot as plt\n",
    "from sklearn.model_selection import train_test_split\n",
    "from tensorflow.keras.preprocessing.image import ImageDataGenerator\n",
    "from sklearn.metrics import confusion_matrix, classification_report\n",
    "from tensorflow.keras.layers import Conv2D, MaxPooling2D, Flatten, Dense,GlobalAveragePooling2D, Dropout\n",
    "from tensorflow.keras.models import Sequential,Model\n",
    "from tensorflow.keras.callbacks import Callback,EarlyStopping\n"
   ]
  },
  {
   "cell_type": "code",
   "execution_count": 2,
   "metadata": {
    "colab": {
     "base_uri": "https://localhost:8080/"
    },
    "id": "QvNSh6sRgPZF",
    "outputId": "52350068-0525-4b80-9d72-b5c1fee39437"
   },
   "outputs": [
    {
     "name": "stdout",
     "output_type": "stream",
     "text": [
      "Mounted at /content/drive\n"
     ]
    }
   ],
   "source": [
    "from google.colab import drive\n",
    "drive.mount('/content/drive')"
   ]
  },
  {
   "cell_type": "code",
   "execution_count": 3,
   "metadata": {
    "id": "PJ9HSOxziVPj"
   },
   "outputs": [],
   "source": [
    "# load saved model\n",
    "import tensorflow\n",
    "tensorflow.keras.backend.set_floatx('float16')\n",
    "ResNet50_model = tensorflow.keras.models.load_model('/content/drive/MyDrive/Project/Code/ipynb_checkpoints/ResNet50_model.h5')"
   ]
  },
  {
   "cell_type": "code",
   "execution_count": 4,
   "metadata": {
    "id": "mXcF9NkggLjI"
   },
   "outputs": [],
   "source": [
    "# load the augmented test data\n",
    "import torch\n",
    "test_images, labels = torch.load('/content/drive/MyDrive/Project/Code/data/test_sets/small_1000_set.pth')"
   ]
  },
  {
   "cell_type": "code",
   "execution_count": 5,
   "metadata": {
    "colab": {
     "base_uri": "https://localhost:8080/"
    },
    "id": "RYMjCYR2hFqu",
    "outputId": "1d27c775-2e1a-4532-b452-0d32e0c39650"
   },
   "outputs": [
    {
     "data": {
      "text/plain": [
       "(1000, 3, 227, 227)"
      ]
     },
     "execution_count": 5,
     "metadata": {},
     "output_type": "execute_result"
    }
   ],
   "source": [
    "test_images = test_images.numpy()\n",
    "\n",
    "test_images.shape"
   ]
  },
  {
   "cell_type": "code",
   "execution_count": 6,
   "metadata": {
    "colab": {
     "base_uri": "https://localhost:8080/"
    },
    "id": "Le1IkTQ4hLve",
    "outputId": "388903ba-b05c-4563-b7f7-7d42033635f6"
   },
   "outputs": [
    {
     "data": {
      "text/plain": [
       "(1000, 227, 227, 3)"
      ]
     },
     "execution_count": 6,
     "metadata": {},
     "output_type": "execute_result"
    }
   ],
   "source": [
    "images = []\n",
    "for test_img in test_images:\n",
    "    images.append(np.moveaxis(test_img, 0, -1))\n",
    "    \n",
    "images = np.array(images)\n",
    "\n",
    "images.shape"
   ]
  },
  {
   "cell_type": "code",
   "execution_count": null,
   "metadata": {
    "id": "0OoyUJ8XhNNx"
   },
   "outputs": [],
   "source": [
    "from PIL import Image \n",
    "\n",
    "for i in range(1000):\n",
    "    \n",
    "    path = '/content/drive/MyDrive/Project/Code/data/test_sets/'\n",
    "    if labels[i] == 0:\n",
    "        path += '0/'\n",
    "    else:\n",
    "        path += '1/'\n",
    "    \n",
    "    img_arr = np.squeeze(images[i])\n",
    "    _array = img_arr * 255\n",
    "    _array = _array.astype(np.uint8)\n",
    "    _image = Image.fromarray(_array)\n",
    "    _image = _image.save(path + str(i) + '.jpg')"
   ]
  },
  {
   "cell_type": "code",
   "execution_count": 7,
   "metadata": {
    "id": "HsNP5mHPj_eX"
   },
   "outputs": [],
   "source": [
    "path = '/content/drive/MyDrive/Project/Code/data/test_sets/'\n",
    "path_all = list(glob.glob(path+'**/*jpg'))\n",
    "path_Negative = path + '0/*.jpg'\n",
    "path_Positive = path + '1/*.jpg'"
   ]
  },
  {
   "cell_type": "code",
   "execution_count": 8,
   "metadata": {
    "id": "s-pjsOW-iJcp"
   },
   "outputs": [],
   "source": [
    "labels = list(map(lambda x:os.path.split(os.path.split(x)[0])[1], path_all))\n",
    "file_Path = pd.Series(path_all, name='File_Path').astype(str)\n",
    "labels = pd.Series(labels, name='Label')\n",
    "data = pd.concat([file_Path, labels], axis=1)\n",
    "data = data.sample(frac=1).reset_index(drop=True)"
   ]
  },
  {
   "cell_type": "code",
   "execution_count": 9,
   "metadata": {
    "colab": {
     "base_uri": "https://localhost:8080/",
     "height": 419
    },
    "id": "K5VrfVIj6NI6",
    "outputId": "bc13eb54-327a-4308-ce1f-44aa1c316719"
   },
   "outputs": [
    {
     "data": {
      "text/html": [
       "<div>\n",
       "<style scoped>\n",
       "    .dataframe tbody tr th:only-of-type {\n",
       "        vertical-align: middle;\n",
       "    }\n",
       "\n",
       "    .dataframe tbody tr th {\n",
       "        vertical-align: top;\n",
       "    }\n",
       "\n",
       "    .dataframe thead th {\n",
       "        text-align: right;\n",
       "    }\n",
       "</style>\n",
       "<table border=\"1\" class=\"dataframe\">\n",
       "  <thead>\n",
       "    <tr style=\"text-align: right;\">\n",
       "      <th></th>\n",
       "      <th>File_Path</th>\n",
       "      <th>Label</th>\n",
       "    </tr>\n",
       "  </thead>\n",
       "  <tbody>\n",
       "    <tr>\n",
       "      <th>0</th>\n",
       "      <td>/content/drive/MyDrive/Project/Code/data/test_...</td>\n",
       "      <td>1</td>\n",
       "    </tr>\n",
       "    <tr>\n",
       "      <th>1</th>\n",
       "      <td>/content/drive/MyDrive/Project/Code/data/test_...</td>\n",
       "      <td>0</td>\n",
       "    </tr>\n",
       "    <tr>\n",
       "      <th>2</th>\n",
       "      <td>/content/drive/MyDrive/Project/Code/data/test_...</td>\n",
       "      <td>0</td>\n",
       "    </tr>\n",
       "    <tr>\n",
       "      <th>3</th>\n",
       "      <td>/content/drive/MyDrive/Project/Code/data/test_...</td>\n",
       "      <td>1</td>\n",
       "    </tr>\n",
       "    <tr>\n",
       "      <th>4</th>\n",
       "      <td>/content/drive/MyDrive/Project/Code/data/test_...</td>\n",
       "      <td>1</td>\n",
       "    </tr>\n",
       "    <tr>\n",
       "      <th>...</th>\n",
       "      <td>...</td>\n",
       "      <td>...</td>\n",
       "    </tr>\n",
       "    <tr>\n",
       "      <th>995</th>\n",
       "      <td>/content/drive/MyDrive/Project/Code/data/test_...</td>\n",
       "      <td>1</td>\n",
       "    </tr>\n",
       "    <tr>\n",
       "      <th>996</th>\n",
       "      <td>/content/drive/MyDrive/Project/Code/data/test_...</td>\n",
       "      <td>0</td>\n",
       "    </tr>\n",
       "    <tr>\n",
       "      <th>997</th>\n",
       "      <td>/content/drive/MyDrive/Project/Code/data/test_...</td>\n",
       "      <td>1</td>\n",
       "    </tr>\n",
       "    <tr>\n",
       "      <th>998</th>\n",
       "      <td>/content/drive/MyDrive/Project/Code/data/test_...</td>\n",
       "      <td>1</td>\n",
       "    </tr>\n",
       "    <tr>\n",
       "      <th>999</th>\n",
       "      <td>/content/drive/MyDrive/Project/Code/data/test_...</td>\n",
       "      <td>0</td>\n",
       "    </tr>\n",
       "  </tbody>\n",
       "</table>\n",
       "<p>1000 rows × 2 columns</p>\n",
       "</div>"
      ],
      "text/plain": [
       "                                             File_Path Label\n",
       "0    /content/drive/MyDrive/Project/Code/data/test_...     1\n",
       "1    /content/drive/MyDrive/Project/Code/data/test_...     0\n",
       "2    /content/drive/MyDrive/Project/Code/data/test_...     0\n",
       "3    /content/drive/MyDrive/Project/Code/data/test_...     1\n",
       "4    /content/drive/MyDrive/Project/Code/data/test_...     1\n",
       "..                                                 ...   ...\n",
       "995  /content/drive/MyDrive/Project/Code/data/test_...     1\n",
       "996  /content/drive/MyDrive/Project/Code/data/test_...     0\n",
       "997  /content/drive/MyDrive/Project/Code/data/test_...     1\n",
       "998  /content/drive/MyDrive/Project/Code/data/test_...     1\n",
       "999  /content/drive/MyDrive/Project/Code/data/test_...     0\n",
       "\n",
       "[1000 rows x 2 columns]"
      ]
     },
     "execution_count": 9,
     "metadata": {},
     "output_type": "execute_result"
    }
   ],
   "source": [
    "data"
   ]
  },
  {
   "cell_type": "code",
   "execution_count": 10,
   "metadata": {
    "colab": {
     "base_uri": "https://localhost:8080/"
    },
    "id": "XLj6bwuUkVVF",
    "outputId": "0cd63d8e-01a2-4e30-8786-c209f2dda55b"
   },
   "outputs": [
    {
     "name": "stdout",
     "output_type": "stream",
     "text": [
      "Found 1000 validated image filenames belonging to 2 classes.\n"
     ]
    }
   ],
   "source": [
    "from tensorflow.keras.applications.resnet50  import preprocess_input\n",
    "\n",
    "test_datagen = ImageDataGenerator(preprocessing_function=preprocess_input)\n",
    "# data.head()\n",
    "test_gen = test_datagen.flow_from_dataframe(\n",
    "    dataframe=data,\n",
    "    x_col='File_Path',\n",
    "    y_col='Label',\n",
    "    target_size=(100,100),\n",
    "    color_mode='rgb',\n",
    "    class_mode='categorical',\n",
    "    batch_size=64,\n",
    "    shuffle=False)"
   ]
  },
  {
   "cell_type": "code",
   "execution_count": 11,
   "metadata": {
    "id": "5mPPShpvluBe"
   },
   "outputs": [],
   "source": [
    "loss,accuracy = ResNet50_model.evaluate(test_gen, verbose = 0)"
   ]
  },
  {
   "cell_type": "code",
   "execution_count": 12,
   "metadata": {
    "colab": {
     "base_uri": "https://localhost:8080/"
    },
    "id": "co9g8Xahm_0Q",
    "outputId": "fe21e7e3-4baf-4130-afed-cfd71121a703"
   },
   "outputs": [
    {
     "name": "stdout",
     "output_type": "stream",
     "text": [
      "The loss of this ResNet50 is 0.301, and the accuracy is 96.100%\n"
     ]
    }
   ],
   "source": [
    "print(f'The loss of this ResNet50 is {loss:.3f}, and the accuracy is {(accuracy*100):.3f}%')"
   ]
  }
 ],
 "metadata": {
  "accelerator": "GPU",
  "colab": {
   "collapsed_sections": [],
   "name": "ResNet50_augmt.ipynb",
   "provenance": []
  },
  "kernelspec": {
   "display_name": "Python 3",
   "language": "python",
   "name": "python3"
  },
  "language_info": {
   "codemirror_mode": {
    "name": "ipython",
    "version": 3
   },
   "file_extension": ".py",
   "mimetype": "text/x-python",
   "name": "python",
   "nbconvert_exporter": "python",
   "pygments_lexer": "ipython3",
   "version": "3.7.3"
  }
 },
 "nbformat": 4,
 "nbformat_minor": 4
}
